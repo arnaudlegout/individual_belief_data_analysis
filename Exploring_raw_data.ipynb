{
 "cells": [
  {
   "cell_type": "code",
   "execution_count": 35,
   "metadata": {},
   "outputs": [],
   "source": [
    "import pandas as pd\n",
    "import numpy as np\n",
    "import seaborn as sns\n",
    "import scipy.stats as stats\n",
    "\n",
    "\n",
    "# def (s, nb_boot=10_000):\n",
    "#     \"percentile bootstrap of the mean with 95% confidence interval\" \n",
    "#     # we compute the statistic on resamples with replacement\n",
    "#     x_star = [s.sample(n=len(s), replace=True).mean() for i in range(nb_boot)]\n",
    "\n",
    "#     # 95th confidence interval of the statistic (here the mean)\n",
    "#     return np.percentile(x_star, [2.5, 97.5])\n",
    "\n",
    "\n",
    "def bootstrap(s, n_resamples=10_000, confidence_level=0.95, statitics=np.mean, method=\"percentile\"):\n",
    "    return stats.bootstrap(\n",
    "        (s,),\n",
    "        statistic=statitics,\n",
    "        vectorized=False,\n",
    "        method=method,\n",
    "        n_resamples=n_resamples,\n",
    "        confidence_level=confidence_level,\n",
    "    ).confidence_interval"
   ]
  },
  {
   "cell_type": "markdown",
   "metadata": {},
   "source": [
    "# Revisiting \"The importance of individual beliefs in assessing treatment efficacy\"\n",
    "Luisa Fassi, Shachar Hochman, Zafiris J Daskalakis, Daniel M Blumberger, Roi Cohen Kadosh (2024) The importance of individual beliefs in assessing treatment efficacy eLife 12:RP88889 https://doi.org/10.7554/eLife.88889.3\n",
    "    \n",
    "## Exploration of Figure 5 (Leffa et al., 2022)"
   ]
  },
  {
   "cell_type": "code",
   "execution_count": 36,
   "metadata": {},
   "outputs": [
    {
     "name": "stdout",
     "output_type": "stream",
     "text": [
      "There are 11 participants with no answer to the blinding question\n",
      "The total number of participants is 64\n",
      "Total number of participants really included in the analysis:  53\n"
     ]
    }
   ],
   "source": [
    "# NOTE: dropout is set to 1 for participants who left the study before the end\n",
    "# the column Unnamed: 7 is a comment to explain why participant did not answer\n",
    "# the blinding question whereas they did not left the study. Note that\n",
    "# dropout can be to 0 (no dropout), but the participant did not answer the blinding.\n",
    "# The only reliable way to exclude participant with incomplete data is to\n",
    "# remove all participants with np.nan in the blinding column\n",
    "df = (pd\n",
    "      .read_excel(\"./Data/Leffa_deidentified_2022.xls\")\n",
    "      .drop(columns=['Unnamed: 7', 'dropout'])\n",
    "      .set_index('subject')\n",
    ")\n",
    "# we do not keep participants with no blinding\n",
    "mask = df.loc[:,'blinding'].isna()\n",
    "print(f\"There are {mask.sum()} participants with no answer to the blinding question\")\n",
    "print(f\"The total number of participants is {df.shape[0]}\")\n",
    "df_initial = df.loc[~mask, :]\n",
    "print(\n",
    "    \"Total number of participants really included in the analysis: \",\n",
    "    df_initial.shape[0],\n",
    ")\n",
    "df = (\n",
    "    df_initial\n",
    "    .rename(\n",
    "        columns={\"treatment\": \"Objective treatment\", \"blinding\": \"Subjective treatment\"}\n",
    "    )\n",
    "    .melt(\n",
    "        id_vars=[\"casrs_a_1\", \"casrs_a_3\"],\n",
    "        value_vars=[\"Objective treatment\", \"Subjective treatment\"],\n",
    "        var_name=\"Treatment type\",\n",
    "        # value_name=\"Subjective treatment\",\n",
    "    )\n",
    "    .melt(id_vars=[\"Treatment type\", \"value\"], value_vars=[\"casrs_a_1\", \"casrs_a_3\"], var_name=\"Week\", value_name='CASRS score')\n",
    ")\n",
    "df.loc[:, \"Week\"] = df.loc[:, \"Week\"].replace(\n",
    "    {\"casrs_a_1\": \"Week 1\", \"casrs_a_3\": \"Week 3\"}\n",
    ")"
   ]
  },
  {
   "cell_type": "markdown",
   "metadata": {},
   "source": [
    "The total number of participants really included in the analysis is 53. Let see how many participants per group we have."
   ]
  },
  {
   "cell_type": "code",
   "execution_count": 37,
   "metadata": {},
   "outputs": [
    {
     "data": {
      "text/html": [
       "<div>\n",
       "<style scoped>\n",
       "    .dataframe tbody tr th:only-of-type {\n",
       "        vertical-align: middle;\n",
       "    }\n",
       "\n",
       "    .dataframe tbody tr th {\n",
       "        vertical-align: top;\n",
       "    }\n",
       "\n",
       "    .dataframe thead th {\n",
       "        text-align: right;\n",
       "    }\n",
       "</style>\n",
       "<table border=\"1\" class=\"dataframe\">\n",
       "  <thead>\n",
       "    <tr style=\"text-align: right;\">\n",
       "      <th>blinding</th>\n",
       "      <th>active</th>\n",
       "      <th>sham</th>\n",
       "    </tr>\n",
       "    <tr>\n",
       "      <th>treatment</th>\n",
       "      <th></th>\n",
       "      <th></th>\n",
       "    </tr>\n",
       "  </thead>\n",
       "  <tbody>\n",
       "    <tr>\n",
       "      <th>active</th>\n",
       "      <td>16</td>\n",
       "      <td>9</td>\n",
       "    </tr>\n",
       "    <tr>\n",
       "      <th>sham</th>\n",
       "      <td>13</td>\n",
       "      <td>15</td>\n",
       "    </tr>\n",
       "  </tbody>\n",
       "</table>\n",
       "</div>"
      ],
      "text/plain": [
       "blinding   active  sham\n",
       "treatment              \n",
       "active         16     9\n",
       "sham           13    15"
      ]
     },
     "execution_count": 37,
     "metadata": {},
     "output_type": "execute_result"
    }
   ],
   "source": [
    "df_initial.groupby([\"treatment\", \"blinding\"])[\"casrs_a_1\"].count().unstack()"
   ]
  },
  {
   "cell_type": "markdown",
   "metadata": {},
   "source": [
    "So the groups size are quite small and imbalanced"
   ]
  },
  {
   "cell_type": "code",
   "execution_count": 38,
   "metadata": {},
   "outputs": [
    {
     "data": {
      "image/png": "[encoded data removed]",
      "text/plain": [
       "<Figure size 1000x500 with 2 Axes>"
      ]
     },
     "metadata": {},
     "output_type": "display_data"
    }
   ],
   "source": [
    "g = sns.catplot(\n",
    "        data=df,\n",
    "        x=\"value\",\n",
    "        y=\"CASRS score\",\n",
    "        col=\"Treatment type\",\n",
    "        hue=\"value\",\n",
    "        kind=\"swarm\",\n",
    "        col_order=[\"Subjective treatment\", \"Objective treatment\"],\n",
    "        order=[\"sham\", \"active\"],\n",
    "        alpha=0.3\n",
    "    )\n",
    "\n",
    "\n",
    "for ax in g.axes.flat:\n",
    "    sns.pointplot(\n",
    "        data=df,\n",
    "        x=\"value\",\n",
    "        y=\"CASRS score\",\n",
    "        hue=\"value\",\n",
    "        order=[\"sham\", \"active\"],\n",
    "        estimator=\"mean\",\n",
    "        errorbar=(\"ci\", 95),\n",
    "        # errorbar=(\"se\"),\n",
    "        n_boot=10000,\n",
    "        capsize=0.1,\n",
    "        ax=ax,\n",
    "    )"
   ]
  },
  {
   "cell_type": "markdown",
   "metadata": {},
   "source": [
    "We have reproduced Figure 5,but with a 95% percentile bootstrap confidence interval. Let's see below the exact interval."
   ]
  },
  {
   "cell_type": "code",
   "execution_count": 39,
   "metadata": {},
   "outputs": [
    {
     "data": {
      "text/html": [
       "<div>\n",
       "<style scoped>\n",
       "    .dataframe tbody tr th:only-of-type {\n",
       "        vertical-align: middle;\n",
       "    }\n",
       "\n",
       "    .dataframe tbody tr th {\n",
       "        vertical-align: top;\n",
       "    }\n",
       "\n",
       "    .dataframe thead th {\n",
       "        text-align: right;\n",
       "    }\n",
       "</style>\n",
       "<table border=\"1\" class=\"dataframe\">\n",
       "  <thead>\n",
       "    <tr style=\"text-align: right;\">\n",
       "      <th>value</th>\n",
       "      <th>active</th>\n",
       "      <th>sham</th>\n",
       "    </tr>\n",
       "    <tr>\n",
       "      <th>Treatment type</th>\n",
       "      <th></th>\n",
       "      <th></th>\n",
       "    </tr>\n",
       "  </thead>\n",
       "  <tbody>\n",
       "    <tr>\n",
       "      <th>Objective treatment</th>\n",
       "      <td>(21.259500000000006, 24.82)</td>\n",
       "      <td>(24.053571428571427, 26.089285714285715)</td>\n",
       "    </tr>\n",
       "    <tr>\n",
       "      <th>Subjective treatment</th>\n",
       "      <td>(21.896120689655177, 24.862068965517242)</td>\n",
       "      <td>(23.6875, 26.3125)</td>\n",
       "    </tr>\n",
       "  </tbody>\n",
       "</table>\n",
       "</div>"
      ],
      "text/plain": [
       "value                                                   active  \\\n",
       "Treatment type                                                   \n",
       "Objective treatment                (21.259500000000006, 24.82)   \n",
       "Subjective treatment  (21.896120689655177, 24.862068965517242)   \n",
       "\n",
       "value                                                     sham  \n",
       "Treatment type                                                  \n",
       "Objective treatment   (24.053571428571427, 26.089285714285715)  \n",
       "Subjective treatment                        (23.6875, 26.3125)  "
      ]
     },
     "execution_count": 39,
     "metadata": {},
     "output_type": "execute_result"
    }
   ],
   "source": [
    "df.groupby(['Treatment type', 'value'])['CASRS score'].apply(bootstrap).unstack()"
   ]
  },
  {
   "cell_type": "markdown",
   "metadata": {},
   "source": [
    "Vérifions maintenant la significativité de la différence entre sham et active pour les traitements objectifs et subjectifs."
   ]
  },
  {
   "cell_type": "code",
   "execution_count": 42,
   "metadata": {},
   "outputs": [
    {
     "name": "stdout",
     "output_type": "stream",
     "text": [
      "p.statistic=1.6242816091953998 p.pvalue=0.0633936606339366\n"
     ]
    }
   ],
   "source": [
    "param = {\n",
    "    \"statistic\": lambda x, y: np.mean(x) - np.mean(y),\n",
    "    \"permutation_type\": \"independent\",\n",
    "    \"alternative\": \"greater\",\n",
    "    \"n_resamples\": 10_000,\n",
    "    \"vectorized\": False,\n",
    "}\n",
    "subjective = df.loc[:, \"Treatment type\"] == \"Subjective treatment\"\n",
    "sham = df.loc[:, \"value\"] == \"sham\"\n",
    "active = df.loc[:, \"value\"] == \"active\"\n",
    "p = stats.permutation_test(\n",
    "    (\n",
    "        df.loc[subjective & sham, \"CASRS score\"],\n",
    "        df.loc[subjective & active, \"CASRS score\"],\n",
    "    ),\n",
    "    **param,\n",
    ")\n",
    "print(f\"{p.statistic=} {p.pvalue=}\")"
   ]
  },
  {
   "cell_type": "code",
   "execution_count": 45,
   "metadata": {},
   "outputs": [
    {
     "data": {
      "text/plain": [
       "min     9.0\n",
       "max    36.0\n",
       "Name: CASRS score, dtype: float64"
      ]
     },
     "execution_count": 45,
     "metadata": {},
     "output_type": "execute_result"
    }
   ],
   "source": [
    "df.loc[subjective & sham, \"CASRS score\"].agg(['min', 'max'])"
   ]
  },
  {
   "cell_type": "code",
   "execution_count": 46,
   "metadata": {},
   "outputs": [
    {
     "data": {
      "text/plain": [
       "min     9.0\n",
       "max    34.0\n",
       "Name: CASRS score, dtype: float64"
      ]
     },
     "execution_count": 46,
     "metadata": {},
     "output_type": "execute_result"
    }
   ],
   "source": [
    "df.loc[subjective & active, \"CASRS score\"].agg(['min', 'max'])"
   ]
  },
  {
   "cell_type": "markdown",
   "metadata": {},
   "source": [
    "La différence observée est de 1.6 sur une échelle allant de 9 à 36 avec une p-value de 0.063. L'effet est faible avec une significativité également faible. On peut donc conclure que les données expérimentales ne permettent pas de conclure sur une différence significative entre sham et active pour le groupe subjective."
   ]
  },
  {
   "cell_type": "code",
   "execution_count": 44,
   "metadata": {},
   "outputs": [
    {
     "name": "stdout",
     "output_type": "stream",
     "text": [
      "p.statistic=2.0292857142857166 p.pvalue=0.026597340265973404\n"
     ]
    }
   ],
   "source": [
    "objective = df.loc[:, \"Treatment type\"] == \"Objective treatment\"\n",
    "sham = df.loc[:, \"value\"] == \"sham\"\n",
    "active = df.loc[:, \"value\"] == \"active\"\n",
    "p = stats.permutation_test(\n",
    "    (\n",
    "        df.loc[objective & sham, \"CASRS score\"],\n",
    "        df.loc[objective & active, \"CASRS score\"],\n",
    "    ),\n",
    "    **param,\n",
    ")\n",
    "print(f\"{p.statistic=} {p.pvalue=}\")"
   ]
  },
  {
   "cell_type": "code",
   "execution_count": 47,
   "metadata": {},
   "outputs": [
    {
     "data": {
      "text/plain": [
       "min    16.0\n",
       "max    34.0\n",
       "Name: CASRS score, dtype: float64"
      ]
     },
     "execution_count": 47,
     "metadata": {},
     "output_type": "execute_result"
    }
   ],
   "source": [
    "df.loc[objective & sham, \"CASRS score\"].agg(['min', 'max'])"
   ]
  },
  {
   "cell_type": "code",
   "execution_count": 48,
   "metadata": {},
   "outputs": [
    {
     "data": {
      "text/plain": [
       "min     9.0\n",
       "max    36.0\n",
       "Name: CASRS score, dtype: float64"
      ]
     },
     "execution_count": 48,
     "metadata": {},
     "output_type": "execute_result"
    }
   ],
   "source": [
    "df.loc[objective & active, \"CASRS score\"].agg(['min', 'max'])"
   ]
  },
  {
   "cell_type": "markdown",
   "metadata": {},
   "source": [
    "La différence observée est de 2.0 sur une échelle allant de 9 à 36 avec une p-value de 0.027. Même si la p-value est inférieur au seuil arbitraire de 0.05, ce résultat permet simplement d'indiquer qu'il y aurait peut-être un faible effet de l'active pour le groupe objective, ce résultat mériterait d'etre confirmé sur un échantillon plus grand."
   ]
  },
  {
   "cell_type": "markdown",
   "metadata": {},
   "source": [
    "There is one suprising decision in the analysis. They mix the CASRS score asked in week 1 and in week 3. I am not sure it is a sound decision. Interestingly, if we only take results from week 3, we have a more convincing difference between sham and active (see below)."
   ]
  },
  {
   "cell_type": "code",
   "execution_count": 17,
   "metadata": {},
   "outputs": [
    {
     "data": {
      "image/png": "[encoded data removed]",
      "text/plain": [
       "<Figure size 1000x500 with 2 Axes>"
      ]
     },
     "metadata": {},
     "output_type": "display_data"
    }
   ],
   "source": [
    "mask = df.loc[:,'Week'] == 'Week 3'\n",
    "df2= df.loc[mask, :]\n",
    "g = sns.catplot(\n",
    "    data=df2,\n",
    "    x=\"value\",\n",
    "    y=\"CASRS score\",\n",
    "    col=\"Treatment type\",\n",
    "    hue=\"value\",\n",
    "    kind=\"swarm\",\n",
    "    col_order=[\"Subjective treatment\", \"Objective treatment\"],\n",
    "    order=[\"sham\", \"active\"],\n",
    "    alpha=0.3,\n",
    ")\n",
    "\n",
    "\n",
    "for ax in g.axes.flat:\n",
    "    sns.pointplot(\n",
    "        data=df2,\n",
    "        x=\"value\",\n",
    "        y=\"CASRS score\",\n",
    "        hue=\"value\",\n",
    "        order=[\"sham\", \"active\"],\n",
    "        estimator=\"mean\",\n",
    "        errorbar=(\"ci\", 95),\n",
    "        # errorbar=(\"se\"),\n",
    "        n_boot=10000,\n",
    "        capsize=0.1,\n",
    "        ax=ax,\n",
    "    )"
   ]
  },
  {
   "cell_type": "code",
   "execution_count": 18,
   "metadata": {},
   "outputs": [
    {
     "data": {
      "text/html": [
       "<div>\n",
       "<style scoped>\n",
       "    .dataframe tbody tr th:only-of-type {\n",
       "        vertical-align: middle;\n",
       "    }\n",
       "\n",
       "    .dataframe tbody tr th {\n",
       "        vertical-align: top;\n",
       "    }\n",
       "\n",
       "    .dataframe thead th {\n",
       "        text-align: right;\n",
       "    }\n",
       "</style>\n",
       "<table border=\"1\" class=\"dataframe\">\n",
       "  <thead>\n",
       "    <tr style=\"text-align: right;\">\n",
       "      <th>value</th>\n",
       "      <th>active</th>\n",
       "      <th>sham</th>\n",
       "    </tr>\n",
       "    <tr>\n",
       "      <th>Treatment type</th>\n",
       "      <th></th>\n",
       "      <th></th>\n",
       "    </tr>\n",
       "  </thead>\n",
       "  <tbody>\n",
       "    <tr>\n",
       "      <th>Objective treatment</th>\n",
       "      <td>[16.72, 21.16]</td>\n",
       "      <td>[22.035714285714285, 24.714285714285715]</td>\n",
       "    </tr>\n",
       "    <tr>\n",
       "      <th>Subjective treatment</th>\n",
       "      <td>[17.79310344827586, 21.310344827586206]</td>\n",
       "      <td>[21.291666666666668, 25.291666666666668]</td>\n",
       "    </tr>\n",
       "  </tbody>\n",
       "</table>\n",
       "</div>"
      ],
      "text/plain": [
       "value                                                  active  \\\n",
       "Treatment type                                                  \n",
       "Objective treatment                            [16.72, 21.16]   \n",
       "Subjective treatment  [17.79310344827586, 21.310344827586206]   \n",
       "\n",
       "value                                                     sham  \n",
       "Treatment type                                                  \n",
       "Objective treatment   [22.035714285714285, 24.714285714285715]  \n",
       "Subjective treatment  [21.291666666666668, 25.291666666666668]  "
      ]
     },
     "execution_count": 18,
     "metadata": {},
     "output_type": "execute_result"
    }
   ],
   "source": [
    "df2.groupby([\"Treatment type\", \"value\"])[\"CASRS score\"].apply(bootstrap).unstack()"
   ]
  },
  {
   "cell_type": "code",
   "execution_count": 32,
   "metadata": {},
   "outputs": [
    {
     "name": "stdout",
     "output_type": "stream",
     "text": [
      "p.statistic=1.7750000000000012 p.pvalue=0.0017998200179982\n"
     ]
    }
   ],
   "source": []
  },
  {
   "cell_type": "code",
   "execution_count": null,
   "metadata": {},
   "outputs": [],
   "source": []
  }
 ],
 "metadata": {
  "kernelspec": {
   "display_name": "py3.12",
   "language": "python",
   "name": "python3"
  },
  "language_info": {
   "codemirror_mode": {
    "name": "ipython",
    "version": 3
   },
   "file_extension": ".py",
   "mimetype": "text/x-python",
   "name": "python",
   "nbconvert_exporter": "python",
   "pygments_lexer": "ipython3",
   "version": "3.12.2"
  }
 },
 "nbformat": 4,
 "nbformat_minor": 2
}
